{
 "cells": [
  {
   "cell_type": "code",
   "execution_count": 9,
   "metadata": {},
   "outputs": [],
   "source": [
    "import torch\n",
    "import numpy as np\n",
    "import os\n",
    "import sys\n",
    "sys.path.append(\"./src/models/\")\n",
    "sys.path.append(\"./src/\")\n",
    "import utils\n",
    "from MWU_CNN import MW_Unet"
   ]
  },
  {
   "cell_type": "code",
   "execution_count": 65,
   "metadata": {},
   "outputs": [],
   "source": [
    "model_save_path  = \"./experiments/baseline/baselin.pt\"\n",
    "def backprop(optimizer,model_output,target):\n",
    "    optimizer.zero_grad()\n",
    "    loss = nn.MSELoss()\n",
    "    loss.backward()\n",
    "    optimizer.step()\n",
    "def get_PSNR(model_output,target):\n",
    "    I_hat = model_output.numpy()\n",
    "    I = target.numpy()\n",
    "    mse = (np.square(I-I_hat)).mean(axis=None)\n",
    "    PSNR = 10 * np.log10(1.0/mse)\n",
    "    return PSNR\n",
    "def train(args):\n",
    "    \"\"\"\n",
    "    train model\n",
    "    \"\"\"\n",
    "    \n",
    "    ####################################### Initializing Model #######################################\n",
    "    \n",
    "    step = 0.01\n",
    "    device = torch.device(\"cuda:0\" if torch.cuda.is_available() else \"cpu\")\n",
    "    print_every = int(args['--print_every'])\n",
    "    num_epochs = int(args['--num_epochs'])\n",
    "    save_every = int(args['--save_every'])\n",
    "    save_path = model_save_path\n",
    "    num_batches = int(args['--num_batches'])\n",
    "    \n",
    "    model = MW_Unet(num_conv=3,in_ch=1)\n",
    "    model.to(device)\n",
    "    optimizer = torch.optim.Adam(model.parameters(),lr=step)\n",
    "    \n",
    "    ######################################### Loading Data ##########################################\n",
    "    train_data_path = args['--train_data_path']\n",
    "    n  = 1000\n",
    "    dataset_total = utils.patchesDataset(patches_path=train_data_path,n=n)\n",
    "    train_split,val_split,test_split = 0.8,0.1,0.1\n",
    "    train_max_idx = int(train_split*len(dataset_total))\n",
    "#     print(train_max_idx)\n",
    "    dataset_train = torch.utils.data.Subset(dataset_total,range(0,train_max_idx))\n",
    "    val_max_idx = train_max_idx+int(val_split*len(dataset_total))\n",
    "    dataset_val = torch.utils.data.Subset(dataset_total,range(train_max_idx,val_max_idx))\n",
    "    test_max_idx = val_max_idx + int(test_split*len(dataset_total))\n",
    "#     print(test_max_idx)\n",
    "    dataset_test = torch.utils.data.Subset(dataset_total,range(val_max_idx,test_max_idx))\n",
    "    \n",
    "    \n",
    "    print(\"length of train set: \",len(dataset_train))\n",
    "    print(\"length of val set: \",len(dataset_val))\n",
    "    print(\"length of test set: \",len(dataset_test))\n",
    "    \n",
    "    train_PSNRs = []\n",
    "    train_losses = []\n",
    "    val_accs = []\n",
    "    \n",
    "    \n",
    "    \n"
   ]
  },
  {
   "cell_type": "code",
   "execution_count": 66,
   "metadata": {},
   "outputs": [
    {
     "name": "stderr",
     "output_type": "stream",
     "text": [
      "\r",
      "  0%|          | 0/10000 [00:00<?, ?it/s]"
     ]
    },
    {
     "name": "stdout",
     "output_type": "stream",
     "text": [
      "loading patches from patches directory\n"
     ]
    },
    {
     "name": "stderr",
     "output_type": "stream",
     "text": [
      "100%|██████████| 10000/10000 [02:14<00:00, 74.09it/s]\n"
     ]
    },
    {
     "name": "stdout",
     "output_type": "stream",
     "text": [
      "completed loading patches from directory!\n",
      "(10000, 240, 240)\n",
      "shape of target: (10000, 1, 240, 240) shape of noisy: (10000, 1, 240, 240)\n",
      "length of train set:  8000\n",
      "length of val set:  1000\n",
      "length of test set:  1000\n"
     ]
    }
   ],
   "source": [
    "args = {'--print_every':1,'--num_epochs':1,'--save_every':1,'--num_batches':32,'--train_data_path':'./data/patches_Train/'}\n",
    "train(args)"
   ]
  },
  {
   "cell_type": "code",
   "execution_count": null,
   "metadata": {},
   "outputs": [],
   "source": []
  }
 ],
 "metadata": {
  "kernelspec": {
   "display_name": "Python (EE367)",
   "language": "python",
   "name": "ee367"
  },
  "language_info": {
   "codemirror_mode": {
    "name": "ipython",
    "version": 3
   },
   "file_extension": ".py",
   "mimetype": "text/x-python",
   "name": "python",
   "nbconvert_exporter": "python",
   "pygments_lexer": "ipython3",
   "version": "3.6.8"
  }
 },
 "nbformat": 4,
 "nbformat_minor": 2
}
