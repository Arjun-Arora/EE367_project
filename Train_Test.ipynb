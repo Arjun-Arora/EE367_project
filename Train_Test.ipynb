{
 "cells": [
  {
   "cell_type": "code",
   "execution_count": 10,
   "metadata": {},
   "outputs": [],
   "source": [
    "import torch\n",
    "import torch.nn as nn\n",
    "import numpy as np\n",
    "import os\n",
    "import sys\n",
    "sys.path.append(\"./src/models/\")\n",
    "sys.path.append(\"./src/\")\n",
    "import utils as utils\n",
    "from torch.utils.data import DataLoader\n",
    "from MWU_CNN import MW_Unet\n",
    "from tqdm import tqdm\n",
    "import importlib\n"
   ]
  },
  {
   "cell_type": "code",
   "execution_count": 30,
   "metadata": {},
   "outputs": [],
   "source": [
    "model_save_path  = \"./experiments/baseline/baseline.pt\"\n",
    "def backprop(optimizer,model_output,target):\n",
    "    optimizer.zero_grad()\n",
    "    loss_fn = nn.MSELoss()\n",
    "    loss = loss_fn(model_output,target)\n",
    "    loss.backward()\n",
    "    optimizer.step()\n",
    "    return loss\n",
    "def get_PSNR(model_output,target):\n",
    "    I_hat = model_output.cpu().detach().numpy()\n",
    "    I = target.cpu().detach().numpy()\n",
    "    mse = (np.square(I-I_hat)).mean(axis=None)\n",
    "    PSNR = 10 * np.log10(1.0/mse)\n",
    "    return PSNR\n",
    "def train(args):\n",
    "    \"\"\"\n",
    "    train model\n",
    "    \"\"\"\n",
    "    \n",
    "    ####################################### Initializing Model #######################################\n",
    "    \n",
    "    step = 0.01\n",
    "    device = torch.device(\"cuda:0\" if torch.cuda.is_available() else \"cpu\")\n",
    "    print_every = int(args['--print_every'])\n",
    "    num_epochs = int(args['--num_epochs'])\n",
    "    save_every = int(args['--save_every'])\n",
    "    save_path = model_save_path\n",
    "    num_batches = int(args['--num_batches'])\n",
    "    batch_size = int(args['--batch_size'])\n",
    "    \n",
    "    model = MW_Unet(num_conv=0,in_ch=1)\n",
    "    model.to(device)\n",
    "    optimizer = torch.optim.Adam(model.parameters(),lr=step)\n",
    "    \n",
    "    ######################################### Loading Data ##########################################\n",
    "    train_data_path = args['--train_data_path']\n",
    "    n  = 3000\n",
    "    dataset_total = utils.patchesDataset(patches_path=train_data_path,n=n)\n",
    "    train_split,val_split,test_split = 0.8,0.1,0.1\n",
    "    train_max_idx = int(train_split*len(dataset_total))\n",
    "#     print(train_max_idx)\n",
    "    dataset_train = torch.utils.data.Subset(dataset_total,range(0,train_max_idx))\n",
    "    val_max_idx = train_max_idx+int(val_split*len(dataset_total))\n",
    "    dataset_val = torch.utils.data.Subset(dataset_total,range(train_max_idx,val_max_idx))\n",
    "    test_max_idx = val_max_idx + int(test_split*len(dataset_total))\n",
    "#     print(test_max_idx)\n",
    "    \n",
    "#     dataset_test = torch.utils.data.Subset(dataset_total,range(val_max_idx,test_max_idx))\n",
    "    \n",
    "    dataloader_train = DataLoader(dataset_train,batch_size=batch_size)\n",
    "    dataloader_val = DataLoader(dataset_val,batch_size=batch_size)\n",
    "    \n",
    "    \n",
    "    print(\"length of train set: \",len(dataset_train))\n",
    "    print(\"length of val set: \",len(dataset_val))\n",
    "#     print(\"length of test set: \",len(dataset_test))\n",
    "    \n",
    "    train_PSNRs = []\n",
    "    train_losses = []\n",
    "    val_PSNRs = []\n",
    "    val_losses = []\n",
    "    init_epoch = 0 \n",
    "    \n",
    "    best_val_PSNR = 0.0\n",
    "    try:\n",
    "        for epoch in range(1, num_epochs + 1):\n",
    "                #INITIATE dataloader_train\n",
    "                print(\"epoch: \",epoch)\n",
    "                with tqdm(total = len(dataloader_train)) as pbar:\n",
    "                    for index, sample in enumerate(dataloader_train):\n",
    "\n",
    "                        model.train()\n",
    "\n",
    "                        target,model_input = sample['target'],sample['input']\n",
    "                        target = target.to(device)\n",
    "                        model_input = model_input.to(device)\n",
    "\n",
    "                        output = model.forward(model_input)\n",
    "\n",
    "                        train_loss = backprop(optimizer,output,target)\n",
    "\n",
    "                        train_PSNR = get_PSNR(output,target)\n",
    "\n",
    "                        avg_val_PSNR = []\n",
    "                        avg_val_loss = []\n",
    "                        model.eval()\n",
    "                        with torch.no_grad():\n",
    "                            for index,sample in enumerate(dataloader_val):\n",
    "                                target,model_input = sample['target'],sample['input']\n",
    "                                \n",
    "                                target = target.to(device)\n",
    "                                model_input = model_input.to(device)\n",
    "                                \n",
    "                                output = model.forward(model_input)\n",
    "                                loss_fn = nn.MSELoss()\n",
    "                                loss_val = loss_fn(output,target)\n",
    "                                PSNR = get_PSNR(output,target)\n",
    "                                avg_val_PSNR.append(PSNR)\n",
    "                                avg_val_loss.append(loss_val.cpu().detach().numpy())\n",
    "                        avg_val_PSNR = np.mean(avg_val_PSNR)\n",
    "                        avg_val_loss = np.mean(avg_val_loss)\n",
    "                        val_PSNRs.append(avg_val_PSNR)\n",
    "                        val_losses.append(avg_val_loss)\n",
    "\n",
    "                        train_losses.append(train_loss.cpu().detach().numpy())\n",
    "                        train_PSNRs.append(train_PSNR)\n",
    "                    if epoch % print_every == 0: \n",
    "                        print (\"Epoch: {}, Loss: {}, Training PSNR: {}\".format(epoch, train_loss, train_PSNR))\n",
    "                        print (\"Epoch: {}, Avg Val Loss: {},Avg Val PSNR: {}\".format(epoch, avg_val_loss, avg_val_PSNR))\n",
    "                    if epoch % save_every == 0 and best_val_PSNR < avg_val_PSNR:\n",
    "                        best_val_PSNR = avg_val_PSNR\n",
    "                        print(\"new best Avg Val PSNR: {}\".format(best_val_PSNR))\n",
    "                        print (\"Saving model to {}\".format(save_path))\n",
    "                        torch.save({'epoch': epoch,\n",
    "                            'model_state_dict': model.state_dict(), \n",
    "                            'optimizer_state_dict': optimizer.state_dict(), \n",
    "                            'loss': train_loss}, \n",
    "                             save_path)\n",
    "                        print (\"Saved successfully to {}\".format(save_path))\n",
    "    except KeyboardInterrupt:\n",
    "        print(\"Training interupted...\")\n",
    "        print (\"Saving model to {}\".format(save_path))\n",
    "        torch.save({'epoch': epoch,\n",
    "                    'model_state_dict': model.state_dict(), \n",
    "                    'optimizer_state_dict': optimizer.state_dict(), \n",
    "                    'loss': train_loss}, \n",
    "                     save_path)\n",
    "        print (\"Saved successfully to {}\".format(save_path))          \n",
    "        \n",
    "\n",
    "    print(\"Training completed.\")\n",
    "\n",
    "\n",
    "        \n",
    "            \n",
    "\n",
    "                    \n",
    "                            \n",
    "                            \n",
    "                            \n",
    "                            \n",
    "                    \n",
    "                    \n",
    "                    \n",
    "\n",
    "    \n",
    "    \n",
    "    \n",
    "    \n"
   ]
  },
  {
   "cell_type": "code",
   "execution_count": 31,
   "metadata": {},
   "outputs": [
    {
     "name": "stdout",
     "output_type": "stream",
     "text": [
      "channel_1: 16, channel_2: 32\n",
      "loading patches from patches directory\n"
     ]
    },
    {
     "name": "stderr",
     "output_type": "stream",
     "text": [
      "100%|██████████| 3000/3000 [00:05<00:00, 592.62it/s]\n"
     ]
    },
    {
     "name": "stdout",
     "output_type": "stream",
     "text": [
      "completed loading patches from directory!\n"
     ]
    },
    {
     "name": "stderr",
     "output_type": "stream",
     "text": [
      "\r",
      "  0%|          | 0/19 [00:00<?, ?it/s]"
     ]
    },
    {
     "name": "stdout",
     "output_type": "stream",
     "text": [
      "(3000, 240, 240)\n",
      "shape of target: (3000, 1, 240, 240) shape of noisy: (3000, 1, 240, 240)\n",
      "length of train set:  2400\n",
      "length of val set:  300\n",
      "epoch:  1\n"
     ]
    },
    {
     "name": "stderr",
     "output_type": "stream",
     "text": [
      "\n",
      "\r",
      "  0%|          | 0/19 [00:00<?, ?it/s]"
     ]
    },
    {
     "name": "stdout",
     "output_type": "stream",
     "text": [
      "new best Avg Val PSNR: 11.907683155434512\n",
      "Saving model to ./experiments/baseline/baseline.pt\n",
      "Saved successfully to ./experiments/baseline/baseline.pt\n",
      "epoch:  2\n"
     ]
    },
    {
     "name": "stderr",
     "output_type": "stream",
     "text": [
      "\n",
      "\r",
      "  0%|          | 0/19 [00:00<?, ?it/s]"
     ]
    },
    {
     "name": "stdout",
     "output_type": "stream",
     "text": [
      "new best Avg Val PSNR: 17.660998640712528\n",
      "Saving model to ./experiments/baseline/baseline.pt\n",
      "Saved successfully to ./experiments/baseline/baseline.pt\n",
      "epoch:  3\n"
     ]
    },
    {
     "name": "stderr",
     "output_type": "stream",
     "text": [
      "\n",
      "\r",
      "  0%|          | 0/19 [00:00<?, ?it/s]"
     ]
    },
    {
     "name": "stdout",
     "output_type": "stream",
     "text": [
      "new best Avg Val PSNR: 19.848217989370642\n",
      "Saving model to ./experiments/baseline/baseline.pt\n",
      "Saved successfully to ./experiments/baseline/baseline.pt\n",
      "epoch:  4\n"
     ]
    },
    {
     "name": "stderr",
     "output_type": "stream",
     "text": [
      "\n",
      "\r",
      "  0%|          | 0/19 [00:00<?, ?it/s]"
     ]
    },
    {
     "name": "stdout",
     "output_type": "stream",
     "text": [
      "new best Avg Val PSNR: 21.37140048914917\n",
      "Saving model to ./experiments/baseline/baseline.pt\n",
      "Saved successfully to ./experiments/baseline/baseline.pt\n",
      "epoch:  5\n"
     ]
    },
    {
     "name": "stderr",
     "output_type": "stream",
     "text": [
      "\n",
      "\r",
      "  0%|          | 0/19 [00:00<?, ?it/s]"
     ]
    },
    {
     "name": "stdout",
     "output_type": "stream",
     "text": [
      "Epoch: 5, Loss: 0.004983397666364908, Training PSNR: 23.02474293184393\n",
      "Epoch: 5, Avg Val Loss: 0.004608292132616043,Avg Val PSNR: 23.37104088612215\n",
      "new best Avg Val PSNR: 23.37104088612215\n",
      "Saving model to ./experiments/baseline/baseline.pt\n",
      "Saved successfully to ./experiments/baseline/baseline.pt\n",
      "epoch:  6\n"
     ]
    },
    {
     "name": "stderr",
     "output_type": "stream",
     "text": [
      "\n",
      "\r",
      "  0%|          | 0/19 [00:00<?, ?it/s]"
     ]
    },
    {
     "name": "stdout",
     "output_type": "stream",
     "text": [
      "new best Avg Val PSNR: 24.321259420411906\n",
      "Saving model to ./experiments/baseline/baseline.pt\n",
      "Saved successfully to ./experiments/baseline/baseline.pt\n",
      "epoch:  7\n"
     ]
    },
    {
     "name": "stderr",
     "output_type": "stream",
     "text": [
      "\n",
      "\r",
      "  0%|          | 0/19 [00:00<?, ?it/s]"
     ]
    },
    {
     "name": "stdout",
     "output_type": "stream",
     "text": [
      "new best Avg Val PSNR: 25.394704574084795\n",
      "Saving model to ./experiments/baseline/baseline.pt\n",
      "Saved successfully to ./experiments/baseline/baseline.pt\n",
      "epoch:  8\n"
     ]
    },
    {
     "name": "stderr",
     "output_type": "stream",
     "text": [
      "\n",
      "\r",
      "  0%|          | 0/19 [00:00<?, ?it/s]"
     ]
    },
    {
     "name": "stdout",
     "output_type": "stream",
     "text": [
      "new best Avg Val PSNR: 25.85827734586638\n",
      "Saving model to ./experiments/baseline/baseline.pt\n",
      "Saved successfully to ./experiments/baseline/baseline.pt\n",
      "epoch:  9\n"
     ]
    },
    {
     "name": "stderr",
     "output_type": "stream",
     "text": [
      "\n",
      "\r",
      "  0%|          | 0/19 [00:00<?, ?it/s]"
     ]
    },
    {
     "name": "stdout",
     "output_type": "stream",
     "text": [
      "new best Avg Val PSNR: 26.24341347220103\n",
      "Saving model to ./experiments/baseline/baseline.pt\n",
      "Saved successfully to ./experiments/baseline/baseline.pt\n",
      "epoch:  10\n",
      "Epoch: 10, Loss: 0.0029898989014327526, Training PSNR: 25.243434963886774\n",
      "Epoch: 10, Avg Val Loss: 0.0022299785632640123,Avg Val PSNR: 26.51986384918006\n",
      "new best Avg Val PSNR: 26.51986384918006\n",
      "Saving model to ./experiments/baseline/baseline.pt\n",
      "Saved successfully to ./experiments/baseline/baseline.pt\n",
      "Training completed.\n"
     ]
    },
    {
     "name": "stderr",
     "output_type": "stream",
     "text": [
      "\n"
     ]
    }
   ],
   "source": [
    "args = {'--print_every':5,\n",
    "        '--num_epochs':10,\n",
    "        '--save_every':1,\n",
    "        '--num_batches':32,\n",
    "        '--train_data_path':'./data/patches_Train/',\n",
    "        '--batch_size':128}\n",
    "train(args)"
   ]
  },
  {
   "cell_type": "code",
   "execution_count": null,
   "metadata": {},
   "outputs": [],
   "source": []
  }
 ],
 "metadata": {
  "kernelspec": {
   "display_name": "Python EE367",
   "language": "python",
   "name": "ee367"
  },
  "language_info": {
   "codemirror_mode": {
    "name": "ipython",
    "version": 3
   },
   "file_extension": ".py",
   "mimetype": "text/x-python",
   "name": "python",
   "nbconvert_exporter": "python",
   "pygments_lexer": "ipython3",
   "version": "3.6.8"
  }
 },
 "nbformat": 4,
 "nbformat_minor": 2
}
